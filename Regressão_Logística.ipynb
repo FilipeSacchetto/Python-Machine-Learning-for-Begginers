{
  "nbformat": 4,
  "nbformat_minor": 0,
  "metadata": {
    "colab": {
      "name": "Regressão Logística.ipynb",
      "provenance": [],
      "authorship_tag": "ABX9TyN+XIuduDy/Oc9RcVcKg/y+",
      "include_colab_link": true
    },
    "kernelspec": {
      "name": "python3",
      "display_name": "Python 3"
    }
  },
  "cells": [
    {
      "cell_type": "markdown",
      "metadata": {
        "id": "view-in-github",
        "colab_type": "text"
      },
      "source": [
        "<a href=\"https://colab.research.google.com/github/FilipeSacchetto/Python-Machine-Learning-for-Begginers/blob/master/Regress%C3%A3o_Log%C3%ADstica.ipynb\" target=\"_parent\"><img src=\"https://colab.research.google.com/assets/colab-badge.svg\" alt=\"Open In Colab\"/></a>"
      ]
    },
    {
      "cell_type": "code",
      "metadata": {
        "id": "yhTHzj_f_DRe",
        "colab_type": "code",
        "colab": {}
      },
      "source": [
        "import numpy as np\n",
        "import matplotlib.pyplot as plt"
      ],
      "execution_count": 0,
      "outputs": []
    },
    {
      "cell_type": "code",
      "metadata": {
        "id": "AlAj9JeX_amn",
        "colab_type": "code",
        "colab": {}
      },
      "source": [
        "def funcao_logistica(x):\n",
        "    return 1 / (1 + np.exp(- x))"
      ],
      "execution_count": 0,
      "outputs": []
    },
    {
      "cell_type": "code",
      "metadata": {
        "id": "osh3QQpoAGz8",
        "colab_type": "code",
        "colab": {}
      },
      "source": [
        "xs = np.linspace(-10, 10, 100)\n",
        "f_xs = funcao_logistica(xs)"
      ],
      "execution_count": 0,
      "outputs": []
    },
    {
      "cell_type": "code",
      "metadata": {
        "id": "x1GDTt2LAm-T",
        "colab_type": "code",
        "colab": {
          "base_uri": "https://localhost:8080/",
          "height": 279
        },
        "outputId": "59496596-cfa1-4bcb-f528-527cd16a81db"
      },
      "source": [
        "plt.figure()\n",
        "plt.plot(xs, f_xs)\n",
        "plt.xlabel(\"x\")\n",
        "plt.ylabel(\"f(x)\")\n",
        "plt.show()"
      ],
      "execution_count": 12,
      "outputs": [
        {
          "output_type": "display_data",
          "data": {
            "image/png": "[encoded data removed]",
            "text/plain": [
              "<Figure size 432x288 with 1 Axes>"
            ]
          },
          "metadata": {
            "tags": []
          }
        }
      ]
    }
  ]
}